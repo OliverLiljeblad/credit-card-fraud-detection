{
 "cells": [
  {
   "cell_type": "code",
   "execution_count": null,
   "id": "ec94e232-b3b9-4178-a767-3d5a339e5818",
   "metadata": {},
   "outputs": [],
   "source": [
    "import numpy as np, random\n",
    "np.random.seed(42)\n",
    "random.seed(42)\n"
   ]
  }
 ],
 "metadata": {
  "kernelspec": {
   "display_name": "Python 3 (ipykernel)",
   "language": "python",
   "name": "python3"
  },
  "language_info": {
   "codemirror_mode": {
    "name": "ipython",
    "version": 3
   },
   "file_extension": ".py",
   "mimetype": "text/x-python",
   "name": "python",
   "nbconvert_exporter": "python",
   "pygments_lexer": "ipython3",
   "version": "3.11.5"
  }
 },
 "nbformat": 4,
 "nbformat_minor": 5
}

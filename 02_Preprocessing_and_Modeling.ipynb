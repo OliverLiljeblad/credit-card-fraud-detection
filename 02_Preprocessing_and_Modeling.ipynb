{
 "cells": [
  {
   "cell_type": "code",
   "execution_count": 1,
   "id": "8f9eb8a7-4d58-4e2c-b1ad-7df3095beb84",
   "metadata": {},
   "outputs": [],
   "source": [
    "# 02_Preprocessing_and_Modeling.ipynb - Cell 1\n",
    "import os\n",
    "import numpy as np\n",
    "import pandas as pd\n",
    "from sklearn.model_selection import train_test_split\n",
    "from sklearn.preprocessing import StandardScaler\n",
    "from imblearn.over_sampling import SMOTE\n",
    "from collections import Counter\n",
    "\n",
    "RANDOM_STATE = 42\n",
    "np.random.seed(RANDOM_STATE)\n"
   ]
  },
  {
   "cell_type": "code",
   "execution_count": 2,
   "id": "ed1f1914-4f41-40b6-b74b-402193723f4a",
   "metadata": {},
   "outputs": [
    {
     "data": {
      "text/plain": [
       "(284807, 31)"
      ]
     },
     "execution_count": 2,
     "metadata": {},
     "output_type": "execute_result"
    }
   ],
   "source": [
    "# 02_Preprocessing_and_Modeling.ipynb - Cell 2\n",
    "df = pd.read_csv(\"creditcard.csv\")\n",
    "df.shape\n"
   ]
  },
  {
   "cell_type": "code",
   "execution_count": 3,
   "id": "6b9571a1-9393-48b9-9d2f-e369081c0736",
   "metadata": {},
   "outputs": [
    {
     "name": "stdout",
     "output_type": "stream",
     "text": [
      "Train shape: (227845, 30) Test shape: (56962, 30)\n",
      "Train class distribution: Counter({0: 227451, 1: 394})\n",
      "Test class distribution: Counter({0: 56864, 1: 98})\n"
     ]
    }
   ],
   "source": [
    "# 02_Preprocessing_and_Modeling.ipynb - Cell 3\n",
    "# We'll keep V1..V28 (already PCA), and scale Amount & Time.\n",
    "X = df.drop('Class', axis=1)\n",
    "y = df['Class']\n",
    "\n",
    "# stratified split to keep class ratio in train/test\n",
    "X_train, X_test, y_train, y_test = train_test_split(X, y,\n",
    "                                                    test_size=0.20,\n",
    "                                                    stratify=y,\n",
    "                                                    random_state=RANDOM_STATE)\n",
    "print(\"Train shape:\", X_train.shape, \"Test shape:\", X_test.shape)\n",
    "print(\"Train class distribution:\", Counter(y_train))\n",
    "print(\"Test class distribution:\", Counter(y_test))\n"
   ]
  },
  {
   "cell_type": "code",
   "execution_count": 4,
   "id": "5ebc4893-f45b-46d5-a6ff-035c687a5fe4",
   "metadata": {},
   "outputs": [
    {
     "name": "stdout",
     "output_type": "stream",
     "text": [
      "After scaling, feature count: 30\n"
     ]
    }
   ],
   "source": [
    "# 02_Preprocessing_and_Modeling.ipynb - Cell 4\n",
    "scaler = StandardScaler()\n",
    "# fit scaler only on the TRAINING data (very important)\n",
    "X_train_amount_time = scaler.fit_transform(X_train[['Amount','Time']])\n",
    "X_test_amount_time = scaler.transform(X_test[['Amount','Time']])\n",
    "\n",
    "# replace raw columns with scaled versions in copies of X_train/X_test\n",
    "X_train_proc = X_train.copy()\n",
    "X_test_proc = X_test.copy()\n",
    "\n",
    "X_train_proc['Amount_Scaled'] = X_train_amount_time[:,0]\n",
    "X_train_proc['Time_Scaled']   = X_train_amount_time[:,1]\n",
    "\n",
    "X_test_proc['Amount_Scaled']  = X_test_amount_time[:,0]\n",
    "X_test_proc['Time_Scaled']    = X_test_amount_time[:,1]\n",
    "\n",
    "# drop old raw columns\n",
    "X_train_proc = X_train_proc.drop(['Amount','Time'], axis=1)\n",
    "X_test_proc  = X_test_proc.drop(['Amount','Time'], axis=1)\n",
    "\n",
    "print(\"After scaling, feature count:\", X_train_proc.shape[1])\n",
    "\n",
    "#REMINDER Never fit_transform on the whole dataset — that leaks info from test → gives overly optimistic performance.\n"
   ]
  },
  {
   "cell_type": "code",
   "execution_count": 5,
   "id": "e82ac5ab-0418-4c73-a9f1-627971c53381",
   "metadata": {},
   "outputs": [
    {
     "name": "stdout",
     "output_type": "stream",
     "text": [
      "Original train class distribution: Counter({0: 227451, 1: 394})\n"
     ]
    }
   ],
   "source": [
    "# 02_Preprocessing_and_Modeling.ipynb - Cell 5\n",
    "#Fraud is rare — we must address imbalance. Two main approaches: resampling (SMOTE) or class-weight / model parameters.\n",
    "\n",
    "from collections import Counter\n",
    "print(\"Original train class distribution:\", Counter(y_train))\n"
   ]
  },
  {
   "cell_type": "code",
   "execution_count": 6,
   "id": "e00db4e0-a614-486f-bb93-0c96f489af4f",
   "metadata": {},
   "outputs": [
    {
     "name": "stdout",
     "output_type": "stream",
     "text": [
      "After SMOTE - distribution: Counter({0: 227451, 1: 227451})\n"
     ]
    }
   ],
   "source": [
    "# 02_Preprocessing_and_Modeling.ipynb - Cell 6\n",
    "#SMOTE synthesizes minority-class samples. This often helps tree models and gradient boosters learn better decision boundaries. Note: do NOT SMOTE the test set.\n",
    "\n",
    "smote = SMOTE(random_state=RANDOM_STATE)\n",
    "X_train_res, y_train_res = smote.fit_resample(X_train_proc, y_train)\n",
    "\n",
    "print(\"After SMOTE - distribution:\", Counter(y_train_res))\n"
   ]
  },
  {
   "cell_type": "code",
   "execution_count": 7,
   "id": "563cd217-910c-4e84-a868-6073f730dea1",
   "metadata": {},
   "outputs": [
    {
     "name": "stdout",
     "output_type": "stream",
     "text": [
      "              precision    recall  f1-score   support\n",
      "\n",
      "           0       1.00      0.97      0.99     56864\n",
      "           1       0.06      0.92      0.11        98\n",
      "\n",
      "    accuracy                           0.97     56962\n",
      "   macro avg       0.53      0.95      0.55     56962\n",
      "weighted avg       1.00      0.97      0.99     56962\n",
      "\n",
      "ROC AUC (LR): 0.9698631105509169\n"
     ]
    }
   ],
   "source": [
    "# 02_Preprocessing_and_Modeling.ipynb - Cell 8\n",
    "from sklearn.linear_model import LogisticRegression\n",
    "from sklearn.metrics import classification_report, roc_auc_score\n",
    "\n",
    "lr = LogisticRegression(max_iter=1000, class_weight='balanced', random_state=RANDOM_STATE)\n",
    "# If using SMOTE, train on resampled data; otherwise train on X_train_proc\n",
    "lr.fit(X_train_res, y_train_res)\n",
    "\n",
    "y_pred_lr = lr.predict(X_test_proc)\n",
    "y_proba_lr = lr.predict_proba(X_test_proc)[:,1]\n",
    "\n",
    "print(classification_report(y_test, y_pred_lr))\n",
    "print(\"ROC AUC (LR):\", roc_auc_score(y_test, y_proba_lr))\n"
   ]
  },
  {
   "cell_type": "code",
   "execution_count": 9,
   "id": "7b8b1d23-85d5-4ca7-b43b-255e04aa73d9",
   "metadata": {},
   "outputs": [
    {
     "name": "stdout",
     "output_type": "stream",
     "text": [
      "              precision    recall  f1-score   support\n",
      "\n",
      "           0       1.00      1.00      1.00     56864\n",
      "           1       0.64      0.88      0.74        98\n",
      "\n",
      "    accuracy                           1.00     56962\n",
      "   macro avg       0.82      0.94      0.87     56962\n",
      "weighted avg       1.00      1.00      1.00     56962\n",
      "\n",
      "ROC AUC (XGB): 0.9782176306087995\n"
     ]
    }
   ],
   "source": [
    "# 02_Preprocessing_and_Modeling.ipynb - Cell 9\n",
    "from xgboost import XGBClassifier\n",
    "\n",
    "xgb = XGBClassifier(\n",
    "    n_estimators=200,\n",
    "    max_depth=6,\n",
    "    learning_rate=0.1,\n",
    "    subsample=0.8,\n",
    "    colsample_bytree=0.8,\n",
    "    random_state=RANDOM_STATE\n",
    ")\n",
    "\n",
    "xgb.fit(X_train_res, y_train_res)\n",
    "\n",
    "y_pred_xgb = xgb.predict(X_test_proc)\n",
    "y_proba_xgb = xgb.predict_proba(X_test_proc)[:,1]\n",
    "\n",
    "from sklearn.metrics import classification_report, roc_auc_score\n",
    "print(classification_report(y_test, y_pred_xgb))\n",
    "print(\"ROC AUC (XGB):\", roc_auc_score(y_test, y_proba_xgb))\n"
   ]
  },
  {
   "cell_type": "code",
   "execution_count": null,
   "id": "755e08ca-ff5a-4bdd-8511-b793461c9013",
   "metadata": {},
   "outputs": [],
   "source": []
  }
 ],
 "metadata": {
  "kernelspec": {
   "display_name": "Python 3 (ipykernel)",
   "language": "python",
   "name": "python3"
  },
  "language_info": {
   "codemirror_mode": {
    "name": "ipython",
    "version": 3
   },
   "file_extension": ".py",
   "mimetype": "text/x-python",
   "name": "python",
   "nbconvert_exporter": "python",
   "pygments_lexer": "ipython3",
   "version": "3.11.5"
  }
 },
 "nbformat": 4,
 "nbformat_minor": 5
}
